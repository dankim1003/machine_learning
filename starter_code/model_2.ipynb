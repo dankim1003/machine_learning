{
 "cells": [
  {
   "cell_type": "code",
   "execution_count": 13,
   "id": "horizontal-output",
   "metadata": {},
   "outputs": [],
   "source": [
    " from sklearn import tree\n",
    "import pandas as pd\n",
    "import os\n",
    "import numpy as np"
   ]
  },
  {
   "cell_type": "code",
   "execution_count": 14,
   "id": "tribal-eating",
   "metadata": {},
   "outputs": [
    {
     "data": {
      "text/html": [
       "<div>\n",
       "<style scoped>\n",
       "    .dataframe tbody tr th:only-of-type {\n",
       "        vertical-align: middle;\n",
       "    }\n",
       "\n",
       "    .dataframe tbody tr th {\n",
       "        vertical-align: top;\n",
       "    }\n",
       "\n",
       "    .dataframe thead th {\n",
       "        text-align: right;\n",
       "    }\n",
       "</style>\n",
       "<table border=\"1\" class=\"dataframe\">\n",
       "  <thead>\n",
       "    <tr style=\"text-align: right;\">\n",
       "      <th></th>\n",
       "      <th>koi_disposition</th>\n",
       "      <th>koi_fpflag_nt</th>\n",
       "      <th>koi_fpflag_ss</th>\n",
       "      <th>koi_fpflag_co</th>\n",
       "      <th>koi_fpflag_ec</th>\n",
       "      <th>koi_period</th>\n",
       "      <th>koi_period_err1</th>\n",
       "      <th>koi_period_err2</th>\n",
       "      <th>koi_time0bk</th>\n",
       "      <th>koi_time0bk_err1</th>\n",
       "      <th>...</th>\n",
       "      <th>koi_steff_err2</th>\n",
       "      <th>koi_slogg</th>\n",
       "      <th>koi_slogg_err1</th>\n",
       "      <th>koi_slogg_err2</th>\n",
       "      <th>koi_srad</th>\n",
       "      <th>koi_srad_err1</th>\n",
       "      <th>koi_srad_err2</th>\n",
       "      <th>ra</th>\n",
       "      <th>dec</th>\n",
       "      <th>koi_kepmag</th>\n",
       "    </tr>\n",
       "  </thead>\n",
       "  <tbody>\n",
       "    <tr>\n",
       "      <th>0</th>\n",
       "      <td>CONFIRMED</td>\n",
       "      <td>0</td>\n",
       "      <td>0</td>\n",
       "      <td>0</td>\n",
       "      <td>0</td>\n",
       "      <td>54.418383</td>\n",
       "      <td>2.479000e-04</td>\n",
       "      <td>-2.479000e-04</td>\n",
       "      <td>162.513840</td>\n",
       "      <td>0.003520</td>\n",
       "      <td>...</td>\n",
       "      <td>-81</td>\n",
       "      <td>4.467</td>\n",
       "      <td>0.064</td>\n",
       "      <td>-0.096</td>\n",
       "      <td>0.927</td>\n",
       "      <td>0.105</td>\n",
       "      <td>-0.061</td>\n",
       "      <td>291.93423</td>\n",
       "      <td>48.141651</td>\n",
       "      <td>15.347</td>\n",
       "    </tr>\n",
       "    <tr>\n",
       "      <th>1</th>\n",
       "      <td>FALSE POSITIVE</td>\n",
       "      <td>0</td>\n",
       "      <td>1</td>\n",
       "      <td>0</td>\n",
       "      <td>0</td>\n",
       "      <td>19.899140</td>\n",
       "      <td>1.490000e-05</td>\n",
       "      <td>-1.490000e-05</td>\n",
       "      <td>175.850252</td>\n",
       "      <td>0.000581</td>\n",
       "      <td>...</td>\n",
       "      <td>-176</td>\n",
       "      <td>4.544</td>\n",
       "      <td>0.044</td>\n",
       "      <td>-0.176</td>\n",
       "      <td>0.868</td>\n",
       "      <td>0.233</td>\n",
       "      <td>-0.078</td>\n",
       "      <td>297.00482</td>\n",
       "      <td>48.134129</td>\n",
       "      <td>15.436</td>\n",
       "    </tr>\n",
       "    <tr>\n",
       "      <th>2</th>\n",
       "      <td>FALSE POSITIVE</td>\n",
       "      <td>0</td>\n",
       "      <td>1</td>\n",
       "      <td>0</td>\n",
       "      <td>0</td>\n",
       "      <td>1.736952</td>\n",
       "      <td>2.630000e-07</td>\n",
       "      <td>-2.630000e-07</td>\n",
       "      <td>170.307565</td>\n",
       "      <td>0.000115</td>\n",
       "      <td>...</td>\n",
       "      <td>-174</td>\n",
       "      <td>4.564</td>\n",
       "      <td>0.053</td>\n",
       "      <td>-0.168</td>\n",
       "      <td>0.791</td>\n",
       "      <td>0.201</td>\n",
       "      <td>-0.067</td>\n",
       "      <td>285.53461</td>\n",
       "      <td>48.285210</td>\n",
       "      <td>15.597</td>\n",
       "    </tr>\n",
       "    <tr>\n",
       "      <th>3</th>\n",
       "      <td>CONFIRMED</td>\n",
       "      <td>0</td>\n",
       "      <td>0</td>\n",
       "      <td>0</td>\n",
       "      <td>0</td>\n",
       "      <td>2.525592</td>\n",
       "      <td>3.760000e-06</td>\n",
       "      <td>-3.760000e-06</td>\n",
       "      <td>171.595550</td>\n",
       "      <td>0.001130</td>\n",
       "      <td>...</td>\n",
       "      <td>-211</td>\n",
       "      <td>4.438</td>\n",
       "      <td>0.070</td>\n",
       "      <td>-0.210</td>\n",
       "      <td>1.046</td>\n",
       "      <td>0.334</td>\n",
       "      <td>-0.133</td>\n",
       "      <td>288.75488</td>\n",
       "      <td>48.226200</td>\n",
       "      <td>15.509</td>\n",
       "    </tr>\n",
       "    <tr>\n",
       "      <th>4</th>\n",
       "      <td>CONFIRMED</td>\n",
       "      <td>0</td>\n",
       "      <td>0</td>\n",
       "      <td>0</td>\n",
       "      <td>0</td>\n",
       "      <td>4.134435</td>\n",
       "      <td>1.050000e-05</td>\n",
       "      <td>-1.050000e-05</td>\n",
       "      <td>172.979370</td>\n",
       "      <td>0.001900</td>\n",
       "      <td>...</td>\n",
       "      <td>-232</td>\n",
       "      <td>4.486</td>\n",
       "      <td>0.054</td>\n",
       "      <td>-0.229</td>\n",
       "      <td>0.972</td>\n",
       "      <td>0.315</td>\n",
       "      <td>-0.105</td>\n",
       "      <td>296.28613</td>\n",
       "      <td>48.224670</td>\n",
       "      <td>15.714</td>\n",
       "    </tr>\n",
       "  </tbody>\n",
       "</table>\n",
       "<p>5 rows × 41 columns</p>\n",
       "</div>"
      ],
      "text/plain": [
       "  koi_disposition  koi_fpflag_nt  koi_fpflag_ss  koi_fpflag_co  koi_fpflag_ec  \\\n",
       "0       CONFIRMED              0              0              0              0   \n",
       "1  FALSE POSITIVE              0              1              0              0   \n",
       "2  FALSE POSITIVE              0              1              0              0   \n",
       "3       CONFIRMED              0              0              0              0   \n",
       "4       CONFIRMED              0              0              0              0   \n",
       "\n",
       "   koi_period  koi_period_err1  koi_period_err2  koi_time0bk  \\\n",
       "0   54.418383     2.479000e-04    -2.479000e-04   162.513840   \n",
       "1   19.899140     1.490000e-05    -1.490000e-05   175.850252   \n",
       "2    1.736952     2.630000e-07    -2.630000e-07   170.307565   \n",
       "3    2.525592     3.760000e-06    -3.760000e-06   171.595550   \n",
       "4    4.134435     1.050000e-05    -1.050000e-05   172.979370   \n",
       "\n",
       "   koi_time0bk_err1  ...  koi_steff_err2  koi_slogg  koi_slogg_err1  \\\n",
       "0          0.003520  ...             -81      4.467           0.064   \n",
       "1          0.000581  ...            -176      4.544           0.044   \n",
       "2          0.000115  ...            -174      4.564           0.053   \n",
       "3          0.001130  ...            -211      4.438           0.070   \n",
       "4          0.001900  ...            -232      4.486           0.054   \n",
       "\n",
       "   koi_slogg_err2  koi_srad  koi_srad_err1  koi_srad_err2         ra  \\\n",
       "0          -0.096     0.927          0.105         -0.061  291.93423   \n",
       "1          -0.176     0.868          0.233         -0.078  297.00482   \n",
       "2          -0.168     0.791          0.201         -0.067  285.53461   \n",
       "3          -0.210     1.046          0.334         -0.133  288.75488   \n",
       "4          -0.229     0.972          0.315         -0.105  296.28613   \n",
       "\n",
       "         dec  koi_kepmag  \n",
       "0  48.141651      15.347  \n",
       "1  48.134129      15.436  \n",
       "2  48.285210      15.597  \n",
       "3  48.226200      15.509  \n",
       "4  48.224670      15.714  \n",
       "\n",
       "[5 rows x 41 columns]"
      ]
     },
     "execution_count": 14,
     "metadata": {},
     "output_type": "execute_result"
    }
   ],
   "source": [
    "df = pd.read_csv(\"exoplanet_data.csv\")\n",
    "# Drop the null columns where all values are null\n",
    "df = df.dropna(axis='columns', how='all')\n",
    "# Drop the null rows\n",
    "df = df.dropna()\n",
    "df.head()"
   ]
  },
  {
   "cell_type": "code",
   "execution_count": 15,
   "id": "martial-thong",
   "metadata": {},
   "outputs": [
    {
     "data": {
      "text/html": [
       "<div>\n",
       "<style scoped>\n",
       "    .dataframe tbody tr th:only-of-type {\n",
       "        vertical-align: middle;\n",
       "    }\n",
       "\n",
       "    .dataframe tbody tr th {\n",
       "        vertical-align: top;\n",
       "    }\n",
       "\n",
       "    .dataframe thead th {\n",
       "        text-align: right;\n",
       "    }\n",
       "</style>\n",
       "<table border=\"1\" class=\"dataframe\">\n",
       "  <thead>\n",
       "    <tr style=\"text-align: right;\">\n",
       "      <th></th>\n",
       "      <th>koi_disposition</th>\n",
       "      <th>koi_period</th>\n",
       "      <th>koi_time0bk</th>\n",
       "    </tr>\n",
       "  </thead>\n",
       "  <tbody>\n",
       "    <tr>\n",
       "      <th>0</th>\n",
       "      <td>CONFIRMED</td>\n",
       "      <td>54.418383</td>\n",
       "      <td>162.513840</td>\n",
       "    </tr>\n",
       "    <tr>\n",
       "      <th>1</th>\n",
       "      <td>FALSE POSITIVE</td>\n",
       "      <td>19.899140</td>\n",
       "      <td>175.850252</td>\n",
       "    </tr>\n",
       "    <tr>\n",
       "      <th>2</th>\n",
       "      <td>FALSE POSITIVE</td>\n",
       "      <td>1.736952</td>\n",
       "      <td>170.307565</td>\n",
       "    </tr>\n",
       "    <tr>\n",
       "      <th>3</th>\n",
       "      <td>CONFIRMED</td>\n",
       "      <td>2.525592</td>\n",
       "      <td>171.595550</td>\n",
       "    </tr>\n",
       "    <tr>\n",
       "      <th>4</th>\n",
       "      <td>CONFIRMED</td>\n",
       "      <td>4.134435</td>\n",
       "      <td>172.979370</td>\n",
       "    </tr>\n",
       "  </tbody>\n",
       "</table>\n",
       "</div>"
      ],
      "text/plain": [
       "  koi_disposition  koi_period  koi_time0bk\n",
       "0       CONFIRMED   54.418383   162.513840\n",
       "1  FALSE POSITIVE   19.899140   175.850252\n",
       "2  FALSE POSITIVE    1.736952   170.307565\n",
       "3       CONFIRMED    2.525592   171.595550\n",
       "4       CONFIRMED    4.134435   172.979370"
      ]
     },
     "execution_count": 15,
     "metadata": {},
     "output_type": "execute_result"
    }
   ],
   "source": [
    "selected_features = df[['koi_disposition', 'koi_period', 'koi_time0bk']]\n",
    "selected_features.head()"
   ]
  },
  {
   "cell_type": "markdown",
   "id": "wicked-ballet",
   "metadata": {},
   "source": [
    "# Create a Train Test Split\n",
    "Use koi_disposition for the y values"
   ]
  },
  {
   "cell_type": "code",
   "execution_count": 16,
   "id": "plastic-spider",
   "metadata": {},
   "outputs": [
    {
     "data": {
      "text/html": [
       "<div>\n",
       "<style scoped>\n",
       "    .dataframe tbody tr th:only-of-type {\n",
       "        vertical-align: middle;\n",
       "    }\n",
       "\n",
       "    .dataframe tbody tr th {\n",
       "        vertical-align: top;\n",
       "    }\n",
       "\n",
       "    .dataframe thead th {\n",
       "        text-align: right;\n",
       "    }\n",
       "</style>\n",
       "<table border=\"1\" class=\"dataframe\">\n",
       "  <thead>\n",
       "    <tr style=\"text-align: right;\">\n",
       "      <th></th>\n",
       "      <th>koi_period</th>\n",
       "      <th>koi_time0bk</th>\n",
       "    </tr>\n",
       "  </thead>\n",
       "  <tbody>\n",
       "    <tr>\n",
       "      <th>0</th>\n",
       "      <td>54.418383</td>\n",
       "      <td>162.513840</td>\n",
       "    </tr>\n",
       "    <tr>\n",
       "      <th>1</th>\n",
       "      <td>19.899140</td>\n",
       "      <td>175.850252</td>\n",
       "    </tr>\n",
       "    <tr>\n",
       "      <th>2</th>\n",
       "      <td>1.736952</td>\n",
       "      <td>170.307565</td>\n",
       "    </tr>\n",
       "    <tr>\n",
       "      <th>3</th>\n",
       "      <td>2.525592</td>\n",
       "      <td>171.595550</td>\n",
       "    </tr>\n",
       "    <tr>\n",
       "      <th>4</th>\n",
       "      <td>4.134435</td>\n",
       "      <td>172.979370</td>\n",
       "    </tr>\n",
       "  </tbody>\n",
       "</table>\n",
       "</div>"
      ],
      "text/plain": [
       "   koi_period  koi_time0bk\n",
       "0   54.418383   162.513840\n",
       "1   19.899140   175.850252\n",
       "2    1.736952   170.307565\n",
       "3    2.525592   171.595550\n",
       "4    4.134435   172.979370"
      ]
     },
     "execution_count": 16,
     "metadata": {},
     "output_type": "execute_result"
    }
   ],
   "source": [
    "target = selected_features.koi_disposition\n",
    "data = selected_features.drop(\"koi_disposition\", axis = 1)\n",
    "feature_names = data.columns\n",
    "data.head()"
   ]
  },
  {
   "cell_type": "code",
   "execution_count": 17,
   "id": "thermal-interface",
   "metadata": {},
   "outputs": [],
   "source": [
    "from sklearn.model_selection import train_test_split\n",
    "X_train, X_test, y_train, y_test = train_test_split(data,target,random_state=42)"
   ]
  },
  {
   "cell_type": "code",
   "execution_count": 18,
   "id": "demonstrated-field",
   "metadata": {},
   "outputs": [
    {
     "data": {
      "text/html": [
       "<div>\n",
       "<style scoped>\n",
       "    .dataframe tbody tr th:only-of-type {\n",
       "        vertical-align: middle;\n",
       "    }\n",
       "\n",
       "    .dataframe tbody tr th {\n",
       "        vertical-align: top;\n",
       "    }\n",
       "\n",
       "    .dataframe thead th {\n",
       "        text-align: right;\n",
       "    }\n",
       "</style>\n",
       "<table border=\"1\" class=\"dataframe\">\n",
       "  <thead>\n",
       "    <tr style=\"text-align: right;\">\n",
       "      <th></th>\n",
       "      <th>koi_period</th>\n",
       "      <th>koi_time0bk</th>\n",
       "    </tr>\n",
       "  </thead>\n",
       "  <tbody>\n",
       "    <tr>\n",
       "      <th>6122</th>\n",
       "      <td>6.768901</td>\n",
       "      <td>133.077240</td>\n",
       "    </tr>\n",
       "    <tr>\n",
       "      <th>6370</th>\n",
       "      <td>0.733726</td>\n",
       "      <td>132.020050</td>\n",
       "    </tr>\n",
       "    <tr>\n",
       "      <th>2879</th>\n",
       "      <td>7.652707</td>\n",
       "      <td>134.460380</td>\n",
       "    </tr>\n",
       "    <tr>\n",
       "      <th>107</th>\n",
       "      <td>7.953547</td>\n",
       "      <td>174.662240</td>\n",
       "    </tr>\n",
       "    <tr>\n",
       "      <th>29</th>\n",
       "      <td>4.959319</td>\n",
       "      <td>172.258529</td>\n",
       "    </tr>\n",
       "  </tbody>\n",
       "</table>\n",
       "</div>"
      ],
      "text/plain": [
       "      koi_period  koi_time0bk\n",
       "6122    6.768901   133.077240\n",
       "6370    0.733726   132.020050\n",
       "2879    7.652707   134.460380\n",
       "107     7.953547   174.662240\n",
       "29      4.959319   172.258529"
      ]
     },
     "execution_count": 18,
     "metadata": {},
     "output_type": "execute_result"
    }
   ],
   "source": [
    "X_train.head()"
   ]
  },
  {
   "cell_type": "code",
   "execution_count": 19,
   "id": "decreased-aging",
   "metadata": {},
   "outputs": [
    {
     "data": {
      "text/plain": [
       "0.4816933638443936"
      ]
     },
     "execution_count": 19,
     "metadata": {},
     "output_type": "execute_result"
    }
   ],
   "source": [
    "clf = tree.DecisionTreeClassifier()\n",
    "clf = clf.fit(X_train, y_train)\n",
    "clf.score(X_test, y_test)"
   ]
  },
  {
   "cell_type": "code",
   "execution_count": 20,
   "id": "monthly-peace",
   "metadata": {},
   "outputs": [
    {
     "data": {
      "text/plain": [
       "0.517162471395881"
      ]
     },
     "execution_count": 20,
     "metadata": {},
     "output_type": "execute_result"
    }
   ],
   "source": [
    "from sklearn.ensemble import RandomForestClassifier\n",
    "rf = RandomForestClassifier(n_estimators=200)\n",
    "rf = rf.fit(X_train, y_train)\n",
    "rf.score(X_test, y_test)"
   ]
  },
  {
   "cell_type": "code",
   "execution_count": 21,
   "id": "beginning-guyana",
   "metadata": {},
   "outputs": [
    {
     "data": {
      "text/plain": [
       "[(0.5199545569775252, 'koi_period'), (0.4800454430224748, 'koi_time0bk')]"
      ]
     },
     "execution_count": 21,
     "metadata": {},
     "output_type": "execute_result"
    }
   ],
   "source": [
    "sorted(zip(rf.feature_importances_, feature_names), reverse=True)"
   ]
  },
  {
   "cell_type": "markdown",
   "id": "stable-alloy",
   "metadata": {},
   "source": [
    "# Hyperparameter Tuning\n",
    "\n",
    "Use `GridSearchCV` to tune the model's parameters"
   ]
  },
  {
   "cell_type": "code",
   "execution_count": 27,
   "id": "valid-helena",
   "metadata": {},
   "outputs": [],
   "source": [
    "# Create the GridSearchCV model\n",
    "from sklearn.model_selection import GridSearchCV\n",
    "param_grid = {'criterion': [\"gini\", \"entropy\"],\n",
    "              'max_depth' : np.arange(3,10)}\n",
    "grid = GridSearchCV(rf, param_grid, verbose=3)"
   ]
  },
  {
   "cell_type": "code",
   "execution_count": 28,
   "id": "permanent-majority",
   "metadata": {},
   "outputs": [
    {
     "name": "stdout",
     "output_type": "stream",
     "text": [
      "Fitting 5 folds for each of 14 candidates, totalling 70 fits\n",
      "[CV] criterion=gini, max_depth=3 .....................................\n"
     ]
    },
    {
     "name": "stderr",
     "output_type": "stream",
     "text": [
      "[Parallel(n_jobs=1)]: Using backend SequentialBackend with 1 concurrent workers.\n"
     ]
    },
    {
     "name": "stdout",
     "output_type": "stream",
     "text": [
      "[CV] ......... criterion=gini, max_depth=3, score=0.520, total=   0.5s\n",
      "[CV] criterion=gini, max_depth=3 .....................................\n"
     ]
    },
    {
     "name": "stderr",
     "output_type": "stream",
     "text": [
      "[Parallel(n_jobs=1)]: Done   1 out of   1 | elapsed:    0.4s remaining:    0.0s\n"
     ]
    },
    {
     "name": "stdout",
     "output_type": "stream",
     "text": [
      "[CV] ......... criterion=gini, max_depth=3, score=0.546, total=   0.5s\n",
      "[CV] criterion=gini, max_depth=3 .....................................\n"
     ]
    },
    {
     "name": "stderr",
     "output_type": "stream",
     "text": [
      "[Parallel(n_jobs=1)]: Done   2 out of   2 | elapsed:    0.9s remaining:    0.0s\n"
     ]
    },
    {
     "name": "stdout",
     "output_type": "stream",
     "text": [
      "[CV] ......... criterion=gini, max_depth=3, score=0.541, total=   0.5s\n",
      "[CV] criterion=gini, max_depth=3 .....................................\n",
      "[CV] ......... criterion=gini, max_depth=3, score=0.541, total=   0.5s\n",
      "[CV] criterion=gini, max_depth=3 .....................................\n",
      "[CV] ......... criterion=gini, max_depth=3, score=0.550, total=   0.5s\n",
      "[CV] criterion=gini, max_depth=4 .....................................\n",
      "[CV] ......... criterion=gini, max_depth=4, score=0.520, total=   0.5s\n",
      "[CV] criterion=gini, max_depth=4 .....................................\n",
      "[CV] ......... criterion=gini, max_depth=4, score=0.547, total=   0.5s\n",
      "[CV] criterion=gini, max_depth=4 .....................................\n",
      "[CV] ......... criterion=gini, max_depth=4, score=0.540, total=   0.5s\n",
      "[CV] criterion=gini, max_depth=4 .....................................\n",
      "[CV] ......... criterion=gini, max_depth=4, score=0.538, total=   0.6s\n",
      "[CV] criterion=gini, max_depth=4 .....................................\n",
      "[CV] ......... criterion=gini, max_depth=4, score=0.553, total=   0.6s\n",
      "[CV] criterion=gini, max_depth=5 .....................................\n",
      "[CV] ......... criterion=gini, max_depth=5, score=0.523, total=   0.7s\n",
      "[CV] criterion=gini, max_depth=5 .....................................\n",
      "[CV] ......... criterion=gini, max_depth=5, score=0.550, total=   0.6s\n",
      "[CV] criterion=gini, max_depth=5 .....................................\n",
      "[CV] ......... criterion=gini, max_depth=5, score=0.541, total=   0.6s\n",
      "[CV] criterion=gini, max_depth=5 .....................................\n",
      "[CV] ......... criterion=gini, max_depth=5, score=0.533, total=   0.7s\n",
      "[CV] criterion=gini, max_depth=5 .....................................\n",
      "[CV] ......... criterion=gini, max_depth=5, score=0.554, total=   0.7s\n",
      "[CV] criterion=gini, max_depth=6 .....................................\n",
      "[CV] ......... criterion=gini, max_depth=6, score=0.521, total=   0.7s\n",
      "[CV] criterion=gini, max_depth=6 .....................................\n",
      "[CV] ......... criterion=gini, max_depth=6, score=0.548, total=   0.7s\n",
      "[CV] criterion=gini, max_depth=6 .....................................\n",
      "[CV] ......... criterion=gini, max_depth=6, score=0.541, total=   0.8s\n",
      "[CV] criterion=gini, max_depth=6 .....................................\n",
      "[CV] ......... criterion=gini, max_depth=6, score=0.530, total=   0.8s\n",
      "[CV] criterion=gini, max_depth=6 .....................................\n",
      "[CV] ......... criterion=gini, max_depth=6, score=0.554, total=   0.9s\n",
      "[CV] criterion=gini, max_depth=7 .....................................\n",
      "[CV] ......... criterion=gini, max_depth=7, score=0.517, total=   0.8s\n",
      "[CV] criterion=gini, max_depth=7 .....................................\n",
      "[CV] ......... criterion=gini, max_depth=7, score=0.542, total=   0.7s\n",
      "[CV] criterion=gini, max_depth=7 .....................................\n",
      "[CV] ......... criterion=gini, max_depth=7, score=0.541, total=   0.8s\n",
      "[CV] criterion=gini, max_depth=7 .....................................\n",
      "[CV] ......... criterion=gini, max_depth=7, score=0.536, total=   0.7s\n",
      "[CV] criterion=gini, max_depth=7 .....................................\n",
      "[CV] ......... criterion=gini, max_depth=7, score=0.543, total=   0.6s\n",
      "[CV] criterion=gini, max_depth=8 .....................................\n",
      "[CV] ......... criterion=gini, max_depth=8, score=0.511, total=   0.8s\n",
      "[CV] criterion=gini, max_depth=8 .....................................\n",
      "[CV] ......... criterion=gini, max_depth=8, score=0.537, total=   0.8s\n",
      "[CV] criterion=gini, max_depth=8 .....................................\n",
      "[CV] ......... criterion=gini, max_depth=8, score=0.536, total=   0.9s\n",
      "[CV] criterion=gini, max_depth=8 .....................................\n",
      "[CV] ......... criterion=gini, max_depth=8, score=0.539, total=   0.9s\n",
      "[CV] criterion=gini, max_depth=8 .....................................\n",
      "[CV] ......... criterion=gini, max_depth=8, score=0.552, total=   0.8s\n",
      "[CV] criterion=gini, max_depth=9 .....................................\n",
      "[CV] ......... criterion=gini, max_depth=9, score=0.503, total=   0.8s\n",
      "[CV] criterion=gini, max_depth=9 .....................................\n",
      "[CV] ......... criterion=gini, max_depth=9, score=0.533, total=   0.8s\n",
      "[CV] criterion=gini, max_depth=9 .....................................\n",
      "[CV] ......... criterion=gini, max_depth=9, score=0.530, total=   0.8s\n",
      "[CV] criterion=gini, max_depth=9 .....................................\n",
      "[CV] ......... criterion=gini, max_depth=9, score=0.531, total=   0.8s\n",
      "[CV] criterion=gini, max_depth=9 .....................................\n",
      "[CV] ......... criterion=gini, max_depth=9, score=0.536, total=   0.9s\n",
      "[CV] criterion=entropy, max_depth=3 ..................................\n",
      "[CV] ...... criterion=entropy, max_depth=3, score=0.519, total=   0.7s\n",
      "[CV] criterion=entropy, max_depth=3 ..................................\n",
      "[CV] ...... criterion=entropy, max_depth=3, score=0.545, total=   0.7s\n",
      "[CV] criterion=entropy, max_depth=3 ..................................\n",
      "[CV] ...... criterion=entropy, max_depth=3, score=0.541, total=   0.7s\n",
      "[CV] criterion=entropy, max_depth=3 ..................................\n",
      "[CV] ...... criterion=entropy, max_depth=3, score=0.540, total=   0.7s\n",
      "[CV] criterion=entropy, max_depth=3 ..................................\n",
      "[CV] ...... criterion=entropy, max_depth=3, score=0.550, total=   0.6s\n",
      "[CV] criterion=entropy, max_depth=4 ..................................\n",
      "[CV] ...... criterion=entropy, max_depth=4, score=0.520, total=   0.7s\n",
      "[CV] criterion=entropy, max_depth=4 ..................................\n",
      "[CV] ...... criterion=entropy, max_depth=4, score=0.549, total=   0.8s\n",
      "[CV] criterion=entropy, max_depth=4 ..................................\n",
      "[CV] ...... criterion=entropy, max_depth=4, score=0.541, total=   0.7s\n",
      "[CV] criterion=entropy, max_depth=4 ..................................\n",
      "[CV] ...... criterion=entropy, max_depth=4, score=0.537, total=   0.8s\n",
      "[CV] criterion=entropy, max_depth=4 ..................................\n",
      "[CV] ...... criterion=entropy, max_depth=4, score=0.555, total=   0.9s\n",
      "[CV] criterion=entropy, max_depth=5 ..................................\n",
      "[CV] ...... criterion=entropy, max_depth=5, score=0.520, total=   1.1s\n",
      "[CV] criterion=entropy, max_depth=5 ..................................\n",
      "[CV] ...... criterion=entropy, max_depth=5, score=0.547, total=   0.9s\n",
      "[CV] criterion=entropy, max_depth=5 ..................................\n",
      "[CV] ...... criterion=entropy, max_depth=5, score=0.541, total=   1.0s\n",
      "[CV] criterion=entropy, max_depth=5 ..................................\n",
      "[CV] ...... criterion=entropy, max_depth=5, score=0.538, total=   0.9s\n",
      "[CV] criterion=entropy, max_depth=5 ..................................\n",
      "[CV] ...... criterion=entropy, max_depth=5, score=0.556, total=   0.8s\n",
      "[CV] criterion=entropy, max_depth=6 ..................................\n",
      "[CV] ...... criterion=entropy, max_depth=6, score=0.524, total=   1.0s\n",
      "[CV] criterion=entropy, max_depth=6 ..................................\n",
      "[CV] ...... criterion=entropy, max_depth=6, score=0.544, total=   1.0s\n",
      "[CV] criterion=entropy, max_depth=6 ..................................\n",
      "[CV] ...... criterion=entropy, max_depth=6, score=0.538, total=   0.9s\n",
      "[CV] criterion=entropy, max_depth=6 ..................................\n",
      "[CV] ...... criterion=entropy, max_depth=6, score=0.532, total=   1.0s\n",
      "[CV] criterion=entropy, max_depth=6 ..................................\n",
      "[CV] ...... criterion=entropy, max_depth=6, score=0.554, total=   0.9s\n",
      "[CV] criterion=entropy, max_depth=7 ..................................\n",
      "[CV] ...... criterion=entropy, max_depth=7, score=0.521, total=   1.1s\n",
      "[CV] criterion=entropy, max_depth=7 ..................................\n",
      "[CV] ...... criterion=entropy, max_depth=7, score=0.546, total=   1.1s\n",
      "[CV] criterion=entropy, max_depth=7 ..................................\n",
      "[CV] ...... criterion=entropy, max_depth=7, score=0.540, total=   1.1s\n",
      "[CV] criterion=entropy, max_depth=7 ..................................\n",
      "[CV] ...... criterion=entropy, max_depth=7, score=0.533, total=   1.0s\n",
      "[CV] criterion=entropy, max_depth=7 ..................................\n",
      "[CV] ...... criterion=entropy, max_depth=7, score=0.551, total=   1.0s\n",
      "[CV] criterion=entropy, max_depth=8 ..................................\n"
     ]
    },
    {
     "name": "stdout",
     "output_type": "stream",
     "text": [
      "[CV] ...... criterion=entropy, max_depth=8, score=0.518, total=   1.1s\n",
      "[CV] criterion=entropy, max_depth=8 ..................................\n",
      "[CV] ...... criterion=entropy, max_depth=8, score=0.537, total=   1.1s\n",
      "[CV] criterion=entropy, max_depth=8 ..................................\n",
      "[CV] ...... criterion=entropy, max_depth=8, score=0.529, total=   1.1s\n",
      "[CV] criterion=entropy, max_depth=8 ..................................\n",
      "[CV] ...... criterion=entropy, max_depth=8, score=0.532, total=   1.1s\n",
      "[CV] criterion=entropy, max_depth=8 ..................................\n",
      "[CV] ...... criterion=entropy, max_depth=8, score=0.552, total=   1.1s\n",
      "[CV] criterion=entropy, max_depth=9 ..................................\n",
      "[CV] ...... criterion=entropy, max_depth=9, score=0.505, total=   1.2s\n",
      "[CV] criterion=entropy, max_depth=9 ..................................\n",
      "[CV] ...... criterion=entropy, max_depth=9, score=0.533, total=   1.2s\n",
      "[CV] criterion=entropy, max_depth=9 ..................................\n",
      "[CV] ...... criterion=entropy, max_depth=9, score=0.532, total=   1.2s\n",
      "[CV] criterion=entropy, max_depth=9 ..................................\n",
      "[CV] ...... criterion=entropy, max_depth=9, score=0.531, total=   1.2s\n",
      "[CV] criterion=entropy, max_depth=9 ..................................\n",
      "[CV] ...... criterion=entropy, max_depth=9, score=0.543, total=   1.2s\n"
     ]
    },
    {
     "name": "stderr",
     "output_type": "stream",
     "text": [
      "[Parallel(n_jobs=1)]: Done  70 out of  70 | elapsed:   57.5s finished\n"
     ]
    },
    {
     "data": {
      "text/plain": [
       "GridSearchCV(estimator=RandomForestClassifier(n_estimators=200),\n",
       "             param_grid={'criterion': ['gini', 'entropy'],\n",
       "                         'max_depth': array([3, 4, 5, 6, 7, 8, 9])},\n",
       "             verbose=3)"
      ]
     },
     "execution_count": 28,
     "metadata": {},
     "output_type": "execute_result"
    }
   ],
   "source": [
    "# Train the model with GridSearch\n",
    "grid.fit(X_train, y_train)"
   ]
  },
  {
   "cell_type": "code",
   "execution_count": 29,
   "id": "incredible-things",
   "metadata": {},
   "outputs": [
    {
     "name": "stdout",
     "output_type": "stream",
     "text": [
      "{'criterion': 'entropy', 'max_depth': 5}\n",
      "0.5405327865870075\n"
     ]
    }
   ],
   "source": [
    "print(grid.best_params_)\n",
    "print(grid.best_score_)"
   ]
  },
  {
   "cell_type": "markdown",
   "id": "naval-attitude",
   "metadata": {},
   "source": [
    "# Save the Model"
   ]
  },
  {
   "cell_type": "code",
   "execution_count": 32,
   "id": "backed-southwest",
   "metadata": {},
   "outputs": [
    {
     "data": {
      "text/plain": [
       "['model_2.sav']"
      ]
     },
     "execution_count": 32,
     "metadata": {},
     "output_type": "execute_result"
    }
   ],
   "source": [
    "# save your model by updating \"your_name\" with your name\n",
    "# and \"your_model\" with your model variable\n",
    "# be sure to turn this in to BCS\n",
    "# if joblib fails to import, try running the command to install in terminal/git-bash\n",
    "import joblib\n",
    "filename = 'model_2.sav'\n",
    "joblib.dump(clf, filename)"
   ]
  },
  {
   "cell_type": "code",
   "execution_count": null,
   "id": "british-norfolk",
   "metadata": {},
   "outputs": [],
   "source": []
  }
 ],
 "metadata": {
  "kernelspec": {
   "display_name": "Python [conda env:PythonAdv] *",
   "language": "python",
   "name": "conda-env-PythonAdv-py"
  },
  "language_info": {
   "codemirror_mode": {
    "name": "ipython",
    "version": 3
   },
   "file_extension": ".py",
   "mimetype": "text/x-python",
   "name": "python",
   "nbconvert_exporter": "python",
   "pygments_lexer": "ipython3",
   "version": "3.6.12"
  }
 },
 "nbformat": 4,
 "nbformat_minor": 5
}
