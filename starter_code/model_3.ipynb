{
 "cells": [
  {
   "cell_type": "code",
   "execution_count": 1,
   "metadata": {},
   "outputs": [],
   "source": [
    "import matplotlib.pyplot as plt\n",
    "from sklearn.neighbors import KNeighborsClassifier\n",
    "import pandas as pd\n",
    "import os"
   ]
  },
  {
   "cell_type": "code",
   "execution_count": 2,
   "metadata": {},
   "outputs": [
    {
     "data": {
      "text/html": [
       "<div>\n",
       "<style scoped>\n",
       "    .dataframe tbody tr th:only-of-type {\n",
       "        vertical-align: middle;\n",
       "    }\n",
       "\n",
       "    .dataframe tbody tr th {\n",
       "        vertical-align: top;\n",
       "    }\n",
       "\n",
       "    .dataframe thead th {\n",
       "        text-align: right;\n",
       "    }\n",
       "</style>\n",
       "<table border=\"1\" class=\"dataframe\">\n",
       "  <thead>\n",
       "    <tr style=\"text-align: right;\">\n",
       "      <th></th>\n",
       "      <th>koi_disposition</th>\n",
       "      <th>koi_fpflag_nt</th>\n",
       "      <th>koi_fpflag_ss</th>\n",
       "      <th>koi_fpflag_co</th>\n",
       "      <th>koi_fpflag_ec</th>\n",
       "      <th>koi_period</th>\n",
       "      <th>koi_period_err1</th>\n",
       "      <th>koi_period_err2</th>\n",
       "      <th>koi_time0bk</th>\n",
       "      <th>koi_time0bk_err1</th>\n",
       "      <th>...</th>\n",
       "      <th>koi_steff_err2</th>\n",
       "      <th>koi_slogg</th>\n",
       "      <th>koi_slogg_err1</th>\n",
       "      <th>koi_slogg_err2</th>\n",
       "      <th>koi_srad</th>\n",
       "      <th>koi_srad_err1</th>\n",
       "      <th>koi_srad_err2</th>\n",
       "      <th>ra</th>\n",
       "      <th>dec</th>\n",
       "      <th>koi_kepmag</th>\n",
       "    </tr>\n",
       "  </thead>\n",
       "  <tbody>\n",
       "    <tr>\n",
       "      <th>0</th>\n",
       "      <td>CONFIRMED</td>\n",
       "      <td>0</td>\n",
       "      <td>0</td>\n",
       "      <td>0</td>\n",
       "      <td>0</td>\n",
       "      <td>54.418383</td>\n",
       "      <td>2.479000e-04</td>\n",
       "      <td>-2.479000e-04</td>\n",
       "      <td>162.513840</td>\n",
       "      <td>0.003520</td>\n",
       "      <td>...</td>\n",
       "      <td>-81</td>\n",
       "      <td>4.467</td>\n",
       "      <td>0.064</td>\n",
       "      <td>-0.096</td>\n",
       "      <td>0.927</td>\n",
       "      <td>0.105</td>\n",
       "      <td>-0.061</td>\n",
       "      <td>291.93423</td>\n",
       "      <td>48.141651</td>\n",
       "      <td>15.347</td>\n",
       "    </tr>\n",
       "    <tr>\n",
       "      <th>1</th>\n",
       "      <td>FALSE POSITIVE</td>\n",
       "      <td>0</td>\n",
       "      <td>1</td>\n",
       "      <td>0</td>\n",
       "      <td>0</td>\n",
       "      <td>19.899140</td>\n",
       "      <td>1.490000e-05</td>\n",
       "      <td>-1.490000e-05</td>\n",
       "      <td>175.850252</td>\n",
       "      <td>0.000581</td>\n",
       "      <td>...</td>\n",
       "      <td>-176</td>\n",
       "      <td>4.544</td>\n",
       "      <td>0.044</td>\n",
       "      <td>-0.176</td>\n",
       "      <td>0.868</td>\n",
       "      <td>0.233</td>\n",
       "      <td>-0.078</td>\n",
       "      <td>297.00482</td>\n",
       "      <td>48.134129</td>\n",
       "      <td>15.436</td>\n",
       "    </tr>\n",
       "    <tr>\n",
       "      <th>2</th>\n",
       "      <td>FALSE POSITIVE</td>\n",
       "      <td>0</td>\n",
       "      <td>1</td>\n",
       "      <td>0</td>\n",
       "      <td>0</td>\n",
       "      <td>1.736952</td>\n",
       "      <td>2.630000e-07</td>\n",
       "      <td>-2.630000e-07</td>\n",
       "      <td>170.307565</td>\n",
       "      <td>0.000115</td>\n",
       "      <td>...</td>\n",
       "      <td>-174</td>\n",
       "      <td>4.564</td>\n",
       "      <td>0.053</td>\n",
       "      <td>-0.168</td>\n",
       "      <td>0.791</td>\n",
       "      <td>0.201</td>\n",
       "      <td>-0.067</td>\n",
       "      <td>285.53461</td>\n",
       "      <td>48.285210</td>\n",
       "      <td>15.597</td>\n",
       "    </tr>\n",
       "    <tr>\n",
       "      <th>3</th>\n",
       "      <td>CONFIRMED</td>\n",
       "      <td>0</td>\n",
       "      <td>0</td>\n",
       "      <td>0</td>\n",
       "      <td>0</td>\n",
       "      <td>2.525592</td>\n",
       "      <td>3.760000e-06</td>\n",
       "      <td>-3.760000e-06</td>\n",
       "      <td>171.595550</td>\n",
       "      <td>0.001130</td>\n",
       "      <td>...</td>\n",
       "      <td>-211</td>\n",
       "      <td>4.438</td>\n",
       "      <td>0.070</td>\n",
       "      <td>-0.210</td>\n",
       "      <td>1.046</td>\n",
       "      <td>0.334</td>\n",
       "      <td>-0.133</td>\n",
       "      <td>288.75488</td>\n",
       "      <td>48.226200</td>\n",
       "      <td>15.509</td>\n",
       "    </tr>\n",
       "    <tr>\n",
       "      <th>4</th>\n",
       "      <td>CONFIRMED</td>\n",
       "      <td>0</td>\n",
       "      <td>0</td>\n",
       "      <td>0</td>\n",
       "      <td>0</td>\n",
       "      <td>4.134435</td>\n",
       "      <td>1.050000e-05</td>\n",
       "      <td>-1.050000e-05</td>\n",
       "      <td>172.979370</td>\n",
       "      <td>0.001900</td>\n",
       "      <td>...</td>\n",
       "      <td>-232</td>\n",
       "      <td>4.486</td>\n",
       "      <td>0.054</td>\n",
       "      <td>-0.229</td>\n",
       "      <td>0.972</td>\n",
       "      <td>0.315</td>\n",
       "      <td>-0.105</td>\n",
       "      <td>296.28613</td>\n",
       "      <td>48.224670</td>\n",
       "      <td>15.714</td>\n",
       "    </tr>\n",
       "  </tbody>\n",
       "</table>\n",
       "<p>5 rows × 41 columns</p>\n",
       "</div>"
      ],
      "text/plain": [
       "  koi_disposition  koi_fpflag_nt  koi_fpflag_ss  koi_fpflag_co  koi_fpflag_ec  \\\n",
       "0       CONFIRMED              0              0              0              0   \n",
       "1  FALSE POSITIVE              0              1              0              0   \n",
       "2  FALSE POSITIVE              0              1              0              0   \n",
       "3       CONFIRMED              0              0              0              0   \n",
       "4       CONFIRMED              0              0              0              0   \n",
       "\n",
       "   koi_period  koi_period_err1  koi_period_err2  koi_time0bk  \\\n",
       "0   54.418383     2.479000e-04    -2.479000e-04   162.513840   \n",
       "1   19.899140     1.490000e-05    -1.490000e-05   175.850252   \n",
       "2    1.736952     2.630000e-07    -2.630000e-07   170.307565   \n",
       "3    2.525592     3.760000e-06    -3.760000e-06   171.595550   \n",
       "4    4.134435     1.050000e-05    -1.050000e-05   172.979370   \n",
       "\n",
       "   koi_time0bk_err1  ...  koi_steff_err2  koi_slogg  koi_slogg_err1  \\\n",
       "0          0.003520  ...             -81      4.467           0.064   \n",
       "1          0.000581  ...            -176      4.544           0.044   \n",
       "2          0.000115  ...            -174      4.564           0.053   \n",
       "3          0.001130  ...            -211      4.438           0.070   \n",
       "4          0.001900  ...            -232      4.486           0.054   \n",
       "\n",
       "   koi_slogg_err2  koi_srad  koi_srad_err1  koi_srad_err2         ra  \\\n",
       "0          -0.096     0.927          0.105         -0.061  291.93423   \n",
       "1          -0.176     0.868          0.233         -0.078  297.00482   \n",
       "2          -0.168     0.791          0.201         -0.067  285.53461   \n",
       "3          -0.210     1.046          0.334         -0.133  288.75488   \n",
       "4          -0.229     0.972          0.315         -0.105  296.28613   \n",
       "\n",
       "         dec  koi_kepmag  \n",
       "0  48.141651      15.347  \n",
       "1  48.134129      15.436  \n",
       "2  48.285210      15.597  \n",
       "3  48.226200      15.509  \n",
       "4  48.224670      15.714  \n",
       "\n",
       "[5 rows x 41 columns]"
      ]
     },
     "execution_count": 2,
     "metadata": {},
     "output_type": "execute_result"
    }
   ],
   "source": [
    "df = pd.read_csv(\"exoplanet_data.csv\")\n",
    "# Drop the null columns where all values are null\n",
    "df = df.dropna(axis='columns', how='all')\n",
    "# Drop the null rows\n",
    "df = df.dropna()\n",
    "df.head()"
   ]
  },
  {
   "cell_type": "code",
   "execution_count": 11,
   "metadata": {},
   "outputs": [
    {
     "data": {
      "text/html": [
       "<div>\n",
       "<style scoped>\n",
       "    .dataframe tbody tr th:only-of-type {\n",
       "        vertical-align: middle;\n",
       "    }\n",
       "\n",
       "    .dataframe tbody tr th {\n",
       "        vertical-align: top;\n",
       "    }\n",
       "\n",
       "    .dataframe thead th {\n",
       "        text-align: right;\n",
       "    }\n",
       "</style>\n",
       "<table border=\"1\" class=\"dataframe\">\n",
       "  <thead>\n",
       "    <tr style=\"text-align: right;\">\n",
       "      <th></th>\n",
       "      <th>koi_disposition</th>\n",
       "      <th>koi_period</th>\n",
       "    </tr>\n",
       "  </thead>\n",
       "  <tbody>\n",
       "    <tr>\n",
       "      <th>0</th>\n",
       "      <td>CONFIRMED</td>\n",
       "      <td>54.418383</td>\n",
       "    </tr>\n",
       "    <tr>\n",
       "      <th>1</th>\n",
       "      <td>FALSE POSITIVE</td>\n",
       "      <td>19.899140</td>\n",
       "    </tr>\n",
       "    <tr>\n",
       "      <th>2</th>\n",
       "      <td>FALSE POSITIVE</td>\n",
       "      <td>1.736952</td>\n",
       "    </tr>\n",
       "    <tr>\n",
       "      <th>3</th>\n",
       "      <td>CONFIRMED</td>\n",
       "      <td>2.525592</td>\n",
       "    </tr>\n",
       "    <tr>\n",
       "      <th>4</th>\n",
       "      <td>CONFIRMED</td>\n",
       "      <td>4.134435</td>\n",
       "    </tr>\n",
       "  </tbody>\n",
       "</table>\n",
       "</div>"
      ],
      "text/plain": [
       "  koi_disposition  koi_period\n",
       "0       CONFIRMED   54.418383\n",
       "1  FALSE POSITIVE   19.899140\n",
       "2  FALSE POSITIVE    1.736952\n",
       "3       CONFIRMED    2.525592\n",
       "4       CONFIRMED    4.134435"
      ]
     },
     "execution_count": 11,
     "metadata": {},
     "output_type": "execute_result"
    }
   ],
   "source": [
    "selected_features = df[['koi_disposition', 'koi_period']]\n",
    "selected_features.head()"
   ]
  },
  {
   "cell_type": "markdown",
   "metadata": {},
   "source": [
    "# Create a Train Test Split\n",
    "Use koi_disposition for the y values"
   ]
  },
  {
   "cell_type": "code",
   "execution_count": 12,
   "metadata": {},
   "outputs": [
    {
     "data": {
      "text/html": [
       "<div>\n",
       "<style scoped>\n",
       "    .dataframe tbody tr th:only-of-type {\n",
       "        vertical-align: middle;\n",
       "    }\n",
       "\n",
       "    .dataframe tbody tr th {\n",
       "        vertical-align: top;\n",
       "    }\n",
       "\n",
       "    .dataframe thead th {\n",
       "        text-align: right;\n",
       "    }\n",
       "</style>\n",
       "<table border=\"1\" class=\"dataframe\">\n",
       "  <thead>\n",
       "    <tr style=\"text-align: right;\">\n",
       "      <th></th>\n",
       "      <th>koi_period</th>\n",
       "    </tr>\n",
       "  </thead>\n",
       "  <tbody>\n",
       "    <tr>\n",
       "      <th>0</th>\n",
       "      <td>54.418383</td>\n",
       "    </tr>\n",
       "    <tr>\n",
       "      <th>1</th>\n",
       "      <td>19.899140</td>\n",
       "    </tr>\n",
       "    <tr>\n",
       "      <th>2</th>\n",
       "      <td>1.736952</td>\n",
       "    </tr>\n",
       "    <tr>\n",
       "      <th>3</th>\n",
       "      <td>2.525592</td>\n",
       "    </tr>\n",
       "    <tr>\n",
       "      <th>4</th>\n",
       "      <td>4.134435</td>\n",
       "    </tr>\n",
       "  </tbody>\n",
       "</table>\n",
       "</div>"
      ],
      "text/plain": [
       "   koi_period\n",
       "0   54.418383\n",
       "1   19.899140\n",
       "2    1.736952\n",
       "3    2.525592\n",
       "4    4.134435"
      ]
     },
     "execution_count": 12,
     "metadata": {},
     "output_type": "execute_result"
    }
   ],
   "source": [
    "target = selected_features.koi_disposition\n",
    "data = selected_features.drop(\"koi_disposition\", axis = 1)\n",
    "feature_names = data.columns\n",
    "data.head()"
   ]
  },
  {
   "cell_type": "code",
   "execution_count": 13,
   "metadata": {},
   "outputs": [],
   "source": [
    "from sklearn.model_selection import train_test_split\n",
    "X_train, X_test, y_train, y_test = train_test_split(data,target,random_state=42)"
   ]
  },
  {
   "cell_type": "code",
   "execution_count": 14,
   "metadata": {},
   "outputs": [
    {
     "data": {
      "text/html": [
       "<div>\n",
       "<style scoped>\n",
       "    .dataframe tbody tr th:only-of-type {\n",
       "        vertical-align: middle;\n",
       "    }\n",
       "\n",
       "    .dataframe tbody tr th {\n",
       "        vertical-align: top;\n",
       "    }\n",
       "\n",
       "    .dataframe thead th {\n",
       "        text-align: right;\n",
       "    }\n",
       "</style>\n",
       "<table border=\"1\" class=\"dataframe\">\n",
       "  <thead>\n",
       "    <tr style=\"text-align: right;\">\n",
       "      <th></th>\n",
       "      <th>koi_period</th>\n",
       "    </tr>\n",
       "  </thead>\n",
       "  <tbody>\n",
       "    <tr>\n",
       "      <th>6122</th>\n",
       "      <td>6.768901</td>\n",
       "    </tr>\n",
       "    <tr>\n",
       "      <th>6370</th>\n",
       "      <td>0.733726</td>\n",
       "    </tr>\n",
       "    <tr>\n",
       "      <th>2879</th>\n",
       "      <td>7.652707</td>\n",
       "    </tr>\n",
       "    <tr>\n",
       "      <th>107</th>\n",
       "      <td>7.953547</td>\n",
       "    </tr>\n",
       "    <tr>\n",
       "      <th>29</th>\n",
       "      <td>4.959319</td>\n",
       "    </tr>\n",
       "  </tbody>\n",
       "</table>\n",
       "</div>"
      ],
      "text/plain": [
       "      koi_period\n",
       "6122    6.768901\n",
       "6370    0.733726\n",
       "2879    7.652707\n",
       "107     7.953547\n",
       "29      4.959319"
      ]
     },
     "execution_count": 14,
     "metadata": {},
     "output_type": "execute_result"
    }
   ],
   "source": [
    "X_train.head()"
   ]
  },
  {
   "cell_type": "code",
   "execution_count": 15,
   "metadata": {},
   "outputs": [],
   "source": [
    "from sklearn.preprocessing import StandardScaler\n",
    "\n",
    "# Create a StandardScater model and fit it to the training data\n",
    "\n",
    "X_scaler = StandardScaler().fit(X_train.values.reshape(-1, 1))"
   ]
  },
  {
   "cell_type": "code",
   "execution_count": 16,
   "metadata": {},
   "outputs": [],
   "source": [
    "X_train_scaled = X_scaler.transform(X_train)\n",
    "X_test_scaled = X_scaler.transform(X_test)"
   ]
  },
  {
   "cell_type": "code",
   "execution_count": 17,
   "metadata": {},
   "outputs": [
    {
     "name": "stdout",
     "output_type": "stream",
     "text": [
      "k: 1, Train/Test Score: 1.000/0.457\n",
      "k: 3, Train/Test Score: 0.722/0.460\n",
      "k: 5, Train/Test Score: 0.656/0.474\n",
      "k: 7, Train/Test Score: 0.637/0.483\n",
      "k: 9, Train/Test Score: 0.611/0.483\n",
      "k: 11, Train/Test Score: 0.599/0.490\n",
      "k: 13, Train/Test Score: 0.589/0.491\n",
      "k: 15, Train/Test Score: 0.586/0.485\n",
      "k: 17, Train/Test Score: 0.582/0.483\n",
      "k: 19, Train/Test Score: 0.576/0.496\n"
     ]
    },
    {
     "data": {
      "image/png": "[encoded data removed]",
      "text/plain": [
       "<Figure size 432x288 with 1 Axes>"
      ]
     },
     "metadata": {
      "needs_background": "light"
     },
     "output_type": "display_data"
    }
   ],
   "source": [
    "train_scores = []\n",
    "test_scores = []\n",
    "for k in range(1, 20, 2):\n",
    "    knn = KNeighborsClassifier(n_neighbors=k)\n",
    "    knn.fit(X_train_scaled, y_train)\n",
    "    train_score = knn.score(X_train_scaled, y_train)\n",
    "    test_score = knn.score(X_test_scaled, y_test)\n",
    "    train_scores.append(train_score)\n",
    "    test_scores.append(test_score)\n",
    "    print(f\"k: {k}, Train/Test Score: {train_score:.3f}/{test_score:.3f}\")\n",
    "    \n",
    "    \n",
    "plt.plot(range(1, 20, 2), train_scores, marker='o')\n",
    "plt.plot(range(1, 20, 2), test_scores, marker=\"x\")\n",
    "plt.xlabel(\"k neighbors\")\n",
    "plt.ylabel(\"Testing accuracy Score\")\n",
    "plt.show()"
   ]
  },
  {
   "cell_type": "code",
   "execution_count": 32,
   "metadata": {},
   "outputs": [
    {
     "name": "stdout",
     "output_type": "stream",
     "text": [
      "k=18 Test Acc: 0.491\n"
     ]
    }
   ],
   "source": [
    "# Note that k: 18 seems to be the best choice for this dataset\n",
    "\n",
    "knn = KNeighborsClassifier(n_neighbors=13)\n",
    "knn.fit(X_train_scaled, y_train)\n",
    "print('k=18 Test Acc: %.3f' % knn.score(X_test_scaled, y_test))"
   ]
  },
  {
   "cell_type": "markdown",
   "metadata": {},
   "source": [
    "# Hyperparameter Tuning\n",
    "\n",
    "Use `GridSearchCV` to tune the model's parameters"
   ]
  },
  {
   "cell_type": "code",
   "execution_count": 33,
   "metadata": {},
   "outputs": [],
   "source": [
    "# Create the GridSearchCV model\n",
    "from sklearn.model_selection import GridSearchCV\n",
    "param_grid = {'n_neighbors': [3,5,11,18],\n",
    "              'weights' : [\"uniform\", \"distance\"],\n",
    "              'metric' : ['euclidean', 'manhattan']}\n",
    "grid = GridSearchCV(knn, param_grid, verbose=3)"
   ]
  },
  {
   "cell_type": "code",
   "execution_count": 34,
   "metadata": {},
   "outputs": [
    {
     "name": "stdout",
     "output_type": "stream",
     "text": [
      "Fitting 5 folds for each of 16 candidates, totalling 80 fits\n",
      "[CV] metric=euclidean, n_neighbors=3, weights=uniform ................\n",
      "[CV]  metric=euclidean, n_neighbors=3, weights=uniform, score=0.469, total=   0.0s\n",
      "[CV] metric=euclidean, n_neighbors=3, weights=uniform ................\n",
      "[CV]  metric=euclidean, n_neighbors=3, weights=uniform, score=0.498, total=   0.0s\n",
      "[CV] metric=euclidean, n_neighbors=3, weights=uniform ................\n",
      "[CV]  metric=euclidean, n_neighbors=3, weights=uniform, score=0.491, total=   0.0s\n",
      "[CV] metric=euclidean, n_neighbors=3, weights=uniform ................\n",
      "[CV]  metric=euclidean, n_neighbors=3, weights=uniform, score=0.483, total=   0.0s\n",
      "[CV] metric=euclidean, n_neighbors=3, weights=uniform ................\n",
      "[CV]  metric=euclidean, n_neighbors=3, weights=uniform, score=0.503, total=   0.0s\n",
      "[CV] metric=euclidean, n_neighbors=3, weights=distance ...............\n"
     ]
    },
    {
     "name": "stderr",
     "output_type": "stream",
     "text": [
      "[Parallel(n_jobs=1)]: Using backend SequentialBackend with 1 concurrent workers.\n",
      "[Parallel(n_jobs=1)]: Done   1 out of   1 | elapsed:    0.0s remaining:    0.0s\n",
      "[Parallel(n_jobs=1)]: Done   2 out of   2 | elapsed:    0.0s remaining:    0.0s\n"
     ]
    },
    {
     "name": "stdout",
     "output_type": "stream",
     "text": [
      "[CV]  metric=euclidean, n_neighbors=3, weights=distance, score=0.480, total=   0.0s\n",
      "[CV] metric=euclidean, n_neighbors=3, weights=distance ...............\n",
      "[CV]  metric=euclidean, n_neighbors=3, weights=distance, score=0.491, total=   0.0s\n",
      "[CV] metric=euclidean, n_neighbors=3, weights=distance ...............\n",
      "[CV]  metric=euclidean, n_neighbors=3, weights=distance, score=0.492, total=   0.0s\n",
      "[CV] metric=euclidean, n_neighbors=3, weights=distance ...............\n",
      "[CV]  metric=euclidean, n_neighbors=3, weights=distance, score=0.490, total=   0.0s\n",
      "[CV] metric=euclidean, n_neighbors=3, weights=distance ...............\n",
      "[CV]  metric=euclidean, n_neighbors=3, weights=distance, score=0.504, total=   0.0s\n",
      "[CV] metric=euclidean, n_neighbors=5, weights=uniform ................\n",
      "[CV]  metric=euclidean, n_neighbors=5, weights=uniform, score=0.468, total=   0.0s\n",
      "[CV] metric=euclidean, n_neighbors=5, weights=uniform ................\n",
      "[CV]  metric=euclidean, n_neighbors=5, weights=uniform, score=0.486, total=   0.0s\n",
      "[CV] metric=euclidean, n_neighbors=5, weights=uniform ................\n",
      "[CV]  metric=euclidean, n_neighbors=5, weights=uniform, score=0.493, total=   0.0s\n",
      "[CV] metric=euclidean, n_neighbors=5, weights=uniform ................\n",
      "[CV]  metric=euclidean, n_neighbors=5, weights=uniform, score=0.490, total=   0.0s\n",
      "[CV] metric=euclidean, n_neighbors=5, weights=uniform ................\n",
      "[CV]  metric=euclidean, n_neighbors=5, weights=uniform, score=0.511, total=   0.0s\n",
      "[CV] metric=euclidean, n_neighbors=5, weights=distance ...............\n",
      "[CV]  metric=euclidean, n_neighbors=5, weights=distance, score=0.468, total=   0.0s\n",
      "[CV] metric=euclidean, n_neighbors=5, weights=distance ...............\n",
      "[CV]  metric=euclidean, n_neighbors=5, weights=distance, score=0.491, total=   0.0s\n",
      "[CV] metric=euclidean, n_neighbors=5, weights=distance ...............\n",
      "[CV]  metric=euclidean, n_neighbors=5, weights=distance, score=0.501, total=   0.0s\n",
      "[CV] metric=euclidean, n_neighbors=5, weights=distance ...............\n",
      "[CV]  metric=euclidean, n_neighbors=5, weights=distance, score=0.502, total=   0.0s\n",
      "[CV] metric=euclidean, n_neighbors=5, weights=distance ...............\n",
      "[CV]  metric=euclidean, n_neighbors=5, weights=distance, score=0.513, total=   0.0s\n",
      "[CV] metric=euclidean, n_neighbors=11, weights=uniform ...............\n",
      "[CV]  metric=euclidean, n_neighbors=11, weights=uniform, score=0.485, total=   0.0s\n",
      "[CV] metric=euclidean, n_neighbors=11, weights=uniform ...............\n",
      "[CV]  metric=euclidean, n_neighbors=11, weights=uniform, score=0.499, total=   0.0s\n",
      "[CV] metric=euclidean, n_neighbors=11, weights=uniform ...............\n",
      "[CV]  metric=euclidean, n_neighbors=11, weights=uniform, score=0.492, total=   0.0s\n",
      "[CV] metric=euclidean, n_neighbors=11, weights=uniform ...............\n",
      "[CV]  metric=euclidean, n_neighbors=11, weights=uniform, score=0.510, total=   0.0s\n",
      "[CV] metric=euclidean, n_neighbors=11, weights=uniform ...............\n",
      "[CV]  metric=euclidean, n_neighbors=11, weights=uniform, score=0.513, total=   0.0s\n",
      "[CV] metric=euclidean, n_neighbors=11, weights=distance ..............\n",
      "[CV]  metric=euclidean, n_neighbors=11, weights=distance, score=0.488, total=   0.0s\n",
      "[CV] metric=euclidean, n_neighbors=11, weights=distance ..............\n",
      "[CV]  metric=euclidean, n_neighbors=11, weights=distance, score=0.502, total=   0.0s\n",
      "[CV] metric=euclidean, n_neighbors=11, weights=distance ..............\n",
      "[CV]  metric=euclidean, n_neighbors=11, weights=distance, score=0.511, total=   0.0s\n",
      "[CV] metric=euclidean, n_neighbors=11, weights=distance ..............\n",
      "[CV]  metric=euclidean, n_neighbors=11, weights=distance, score=0.503, total=   0.0s\n",
      "[CV] metric=euclidean, n_neighbors=11, weights=distance ..............\n",
      "[CV]  metric=euclidean, n_neighbors=11, weights=distance, score=0.526, total=   0.0s\n",
      "[CV] metric=euclidean, n_neighbors=18, weights=uniform ...............\n",
      "[CV]  metric=euclidean, n_neighbors=18, weights=uniform, score=0.500, total=   0.0s\n",
      "[CV] metric=euclidean, n_neighbors=18, weights=uniform ...............\n",
      "[CV]  metric=euclidean, n_neighbors=18, weights=uniform, score=0.499, total=   0.0s\n",
      "[CV] metric=euclidean, n_neighbors=18, weights=uniform ...............\n",
      "[CV]  metric=euclidean, n_neighbors=18, weights=uniform, score=0.508, total=   0.0s\n",
      "[CV] metric=euclidean, n_neighbors=18, weights=uniform ...............\n",
      "[CV]  metric=euclidean, n_neighbors=18, weights=uniform, score=0.510, total=   0.0s\n",
      "[CV] metric=euclidean, n_neighbors=18, weights=uniform ...............\n",
      "[CV]  metric=euclidean, n_neighbors=18, weights=uniform, score=0.510, total=   0.0s\n",
      "[CV] metric=euclidean, n_neighbors=18, weights=distance ..............\n",
      "[CV]  metric=euclidean, n_neighbors=18, weights=distance, score=0.491, total=   0.0s\n",
      "[CV] metric=euclidean, n_neighbors=18, weights=distance ..............\n",
      "[CV]  metric=euclidean, n_neighbors=18, weights=distance, score=0.510, total=   0.0s\n",
      "[CV] metric=euclidean, n_neighbors=18, weights=distance ..............\n",
      "[CV]  metric=euclidean, n_neighbors=18, weights=distance, score=0.518, total=   0.0s\n",
      "[CV] metric=euclidean, n_neighbors=18, weights=distance ..............\n",
      "[CV]  metric=euclidean, n_neighbors=18, weights=distance, score=0.508, total=   0.0s\n",
      "[CV] metric=euclidean, n_neighbors=18, weights=distance ..............\n",
      "[CV]  metric=euclidean, n_neighbors=18, weights=distance, score=0.532, total=   0.0s\n",
      "[CV] metric=manhattan, n_neighbors=3, weights=uniform ................\n",
      "[CV]  metric=manhattan, n_neighbors=3, weights=uniform, score=0.469, total=   0.0s\n",
      "[CV] metric=manhattan, n_neighbors=3, weights=uniform ................\n",
      "[CV]  metric=manhattan, n_neighbors=3, weights=uniform, score=0.498, total=   0.0s\n",
      "[CV] metric=manhattan, n_neighbors=3, weights=uniform ................\n",
      "[CV]  metric=manhattan, n_neighbors=3, weights=uniform, score=0.491, total=   0.0s\n",
      "[CV] metric=manhattan, n_neighbors=3, weights=uniform ................\n",
      "[CV]  metric=manhattan, n_neighbors=3, weights=uniform, score=0.483, total=   0.0s\n",
      "[CV] metric=manhattan, n_neighbors=3, weights=uniform ................\n",
      "[CV]  metric=manhattan, n_neighbors=3, weights=uniform, score=0.503, total=   0.0s\n",
      "[CV] metric=manhattan, n_neighbors=3, weights=distance ...............\n",
      "[CV]  metric=manhattan, n_neighbors=3, weights=distance, score=0.480, total=   0.0s\n",
      "[CV] metric=manhattan, n_neighbors=3, weights=distance ...............\n",
      "[CV]  metric=manhattan, n_neighbors=3, weights=distance, score=0.491, total=   0.0s\n",
      "[CV] metric=manhattan, n_neighbors=3, weights=distance ...............\n",
      "[CV]  metric=manhattan, n_neighbors=3, weights=distance, score=0.492, total=   0.0s\n",
      "[CV] metric=manhattan, n_neighbors=3, weights=distance ...............\n",
      "[CV]  metric=manhattan, n_neighbors=3, weights=distance, score=0.490, total=   0.0s\n",
      "[CV] metric=manhattan, n_neighbors=3, weights=distance ...............\n",
      "[CV]  metric=manhattan, n_neighbors=3, weights=distance, score=0.504, total=   0.0s\n",
      "[CV] metric=manhattan, n_neighbors=5, weights=uniform ................\n",
      "[CV]  metric=manhattan, n_neighbors=5, weights=uniform, score=0.468, total=   0.0s\n",
      "[CV] metric=manhattan, n_neighbors=5, weights=uniform ................\n",
      "[CV]  metric=manhattan, n_neighbors=5, weights=uniform, score=0.486, total=   0.0s\n",
      "[CV] metric=manhattan, n_neighbors=5, weights=uniform ................\n",
      "[CV]  metric=manhattan, n_neighbors=5, weights=uniform, score=0.493, total=   0.1s\n",
      "[CV] metric=manhattan, n_neighbors=5, weights=uniform ................\n",
      "[CV]  metric=manhattan, n_neighbors=5, weights=uniform, score=0.490, total=   0.0s\n",
      "[CV] metric=manhattan, n_neighbors=5, weights=uniform ................\n",
      "[CV]  metric=manhattan, n_neighbors=5, weights=uniform, score=0.511, total=   0.0s\n",
      "[CV] metric=manhattan, n_neighbors=5, weights=distance ...............\n",
      "[CV]  metric=manhattan, n_neighbors=5, weights=distance, score=0.468, total=   0.0s\n",
      "[CV] metric=manhattan, n_neighbors=5, weights=distance ...............\n",
      "[CV]  metric=manhattan, n_neighbors=5, weights=distance, score=0.491, total=   0.0s\n",
      "[CV] metric=manhattan, n_neighbors=5, weights=distance ...............\n",
      "[CV]  metric=manhattan, n_neighbors=5, weights=distance, score=0.501, total=   0.0s\n",
      "[CV] metric=manhattan, n_neighbors=5, weights=distance ...............\n",
      "[CV]  metric=manhattan, n_neighbors=5, weights=distance, score=0.502, total=   0.0s\n",
      "[CV] metric=manhattan, n_neighbors=5, weights=distance ...............\n",
      "[CV]  metric=manhattan, n_neighbors=5, weights=distance, score=0.513, total=   0.0s\n",
      "[CV] metric=manhattan, n_neighbors=11, weights=uniform ...............\n",
      "[CV]  metric=manhattan, n_neighbors=11, weights=uniform, score=0.485, total=   0.0s\n",
      "[CV] metric=manhattan, n_neighbors=11, weights=uniform ...............\n",
      "[CV]  metric=manhattan, n_neighbors=11, weights=uniform, score=0.499, total=   0.0s\n",
      "[CV] metric=manhattan, n_neighbors=11, weights=uniform ...............\n"
     ]
    },
    {
     "name": "stdout",
     "output_type": "stream",
     "text": [
      "[CV]  metric=manhattan, n_neighbors=11, weights=uniform, score=0.492, total=   0.0s\n",
      "[CV] metric=manhattan, n_neighbors=11, weights=uniform ...............\n",
      "[CV]  metric=manhattan, n_neighbors=11, weights=uniform, score=0.510, total=   0.0s\n",
      "[CV] metric=manhattan, n_neighbors=11, weights=uniform ...............\n",
      "[CV]  metric=manhattan, n_neighbors=11, weights=uniform, score=0.513, total=   0.0s\n",
      "[CV] metric=manhattan, n_neighbors=11, weights=distance ..............\n",
      "[CV]  metric=manhattan, n_neighbors=11, weights=distance, score=0.488, total=   0.0s\n",
      "[CV] metric=manhattan, n_neighbors=11, weights=distance ..............\n",
      "[CV]  metric=manhattan, n_neighbors=11, weights=distance, score=0.502, total=   0.0s\n",
      "[CV] metric=manhattan, n_neighbors=11, weights=distance ..............\n",
      "[CV]  metric=manhattan, n_neighbors=11, weights=distance, score=0.511, total=   0.0s\n",
      "[CV] metric=manhattan, n_neighbors=11, weights=distance ..............\n",
      "[CV]  metric=manhattan, n_neighbors=11, weights=distance, score=0.503, total=   0.0s\n",
      "[CV] metric=manhattan, n_neighbors=11, weights=distance ..............\n",
      "[CV]  metric=manhattan, n_neighbors=11, weights=distance, score=0.526, total=   0.0s\n",
      "[CV] metric=manhattan, n_neighbors=18, weights=uniform ...............\n",
      "[CV]  metric=manhattan, n_neighbors=18, weights=uniform, score=0.500, total=   0.1s\n",
      "[CV] metric=manhattan, n_neighbors=18, weights=uniform ...............\n",
      "[CV]  metric=manhattan, n_neighbors=18, weights=uniform, score=0.499, total=   0.1s\n",
      "[CV] metric=manhattan, n_neighbors=18, weights=uniform ...............\n",
      "[CV]  metric=manhattan, n_neighbors=18, weights=uniform, score=0.508, total=   0.0s\n",
      "[CV] metric=manhattan, n_neighbors=18, weights=uniform ...............\n",
      "[CV]  metric=manhattan, n_neighbors=18, weights=uniform, score=0.510, total=   0.0s\n",
      "[CV] metric=manhattan, n_neighbors=18, weights=uniform ...............\n",
      "[CV]  metric=manhattan, n_neighbors=18, weights=uniform, score=0.510, total=   0.0s\n",
      "[CV] metric=manhattan, n_neighbors=18, weights=distance ..............\n",
      "[CV]  metric=manhattan, n_neighbors=18, weights=distance, score=0.491, total=   0.0s\n",
      "[CV] metric=manhattan, n_neighbors=18, weights=distance ..............\n",
      "[CV]  metric=manhattan, n_neighbors=18, weights=distance, score=0.510, total=   0.0s\n",
      "[CV] metric=manhattan, n_neighbors=18, weights=distance ..............\n",
      "[CV]  metric=manhattan, n_neighbors=18, weights=distance, score=0.518, total=   0.0s\n",
      "[CV] metric=manhattan, n_neighbors=18, weights=distance ..............\n",
      "[CV]  metric=manhattan, n_neighbors=18, weights=distance, score=0.508, total=   0.0s\n",
      "[CV] metric=manhattan, n_neighbors=18, weights=distance ..............\n",
      "[CV]  metric=manhattan, n_neighbors=18, weights=distance, score=0.532, total=   0.0s\n"
     ]
    },
    {
     "name": "stderr",
     "output_type": "stream",
     "text": [
      "[Parallel(n_jobs=1)]: Done  80 out of  80 | elapsed:    2.2s finished\n"
     ]
    },
    {
     "data": {
      "text/plain": [
       "GridSearchCV(estimator=KNeighborsClassifier(n_neighbors=13),\n",
       "             param_grid={'metric': ['euclidean', 'manhattan'],\n",
       "                         'n_neighbors': [3, 5, 11, 18],\n",
       "                         'weights': ['uniform', 'distance']},\n",
       "             verbose=3)"
      ]
     },
     "execution_count": 34,
     "metadata": {},
     "output_type": "execute_result"
    }
   ],
   "source": [
    "# Train the model with GridSearch\n",
    "grid.fit(X_train, y_train)"
   ]
  },
  {
   "cell_type": "code",
   "execution_count": 35,
   "metadata": {},
   "outputs": [
    {
     "name": "stdout",
     "output_type": "stream",
     "text": [
      "{'metric': 'euclidean', 'n_neighbors': 18, 'weights': 'distance'}\n",
      "0.5117330936770024\n"
     ]
    }
   ],
   "source": [
    "print(grid.best_params_)\n",
    "print(grid.best_score_)"
   ]
  },
  {
   "cell_type": "markdown",
   "metadata": {},
   "source": [
    "# Save the Model"
   ]
  },
  {
   "cell_type": "code",
   "execution_count": 36,
   "metadata": {},
   "outputs": [
    {
     "data": {
      "text/plain": [
       "['model_3.sav']"
      ]
     },
     "execution_count": 36,
     "metadata": {},
     "output_type": "execute_result"
    }
   ],
   "source": [
    "# save your model by updating \"your_name\" with your name\n",
    "# and \"your_model\" with your model variable\n",
    "# be sure to turn this in to BCS\n",
    "# if joblib fails to import, try running the command to install in terminal/git-bash\n",
    "import joblib\n",
    "filename = 'model_3.sav'\n",
    "joblib.dump(knn, filename)"
   ]
  },
  {
   "cell_type": "code",
   "execution_count": null,
   "metadata": {},
   "outputs": [],
   "source": []
  }
 ],
 "metadata": {
  "kernelspec": {
   "display_name": "Python [conda env:PythonAdv]",
   "language": "python",
   "name": "conda-env-PythonAdv-py"
  },
  "language_info": {
   "codemirror_mode": {
    "name": "ipython",
    "version": 3
   },
   "file_extension": ".py",
   "mimetype": "text/x-python",
   "name": "python",
   "nbconvert_exporter": "python",
   "pygments_lexer": "ipython3",
   "version": "3.6.12"
  }
 },
 "nbformat": 4,
 "nbformat_minor": 5
}
